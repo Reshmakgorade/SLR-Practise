{
 "cells": [
  {
   "cell_type": "code",
   "execution_count": 1,
   "id": "45ecbecb",
   "metadata": {},
   "outputs": [],
   "source": [
    "import warnings\n",
    "warnings.filterwarnings('ignore')"
   ]
  },
  {
   "cell_type": "code",
   "execution_count": 2,
   "id": "da061d58",
   "metadata": {},
   "outputs": [],
   "source": [
    "import pandas as pd"
   ]
  },
  {
   "cell_type": "code",
   "execution_count": 7,
   "id": "e659dd0c",
   "metadata": {},
   "outputs": [
    {
     "data": {
      "text/html": [
       "<div>\n",
       "<style scoped>\n",
       "    .dataframe tbody tr th:only-of-type {\n",
       "        vertical-align: middle;\n",
       "    }\n",
       "\n",
       "    .dataframe tbody tr th {\n",
       "        vertical-align: top;\n",
       "    }\n",
       "\n",
       "    .dataframe thead th {\n",
       "        text-align: right;\n",
       "    }\n",
       "</style>\n",
       "<table border=\"1\" class=\"dataframe\">\n",
       "  <thead>\n",
       "    <tr style=\"text-align: right;\">\n",
       "      <th></th>\n",
       "      <th>YearsExperience</th>\n",
       "      <th>Salary</th>\n",
       "    </tr>\n",
       "  </thead>\n",
       "  <tbody>\n",
       "    <tr>\n",
       "      <th>0</th>\n",
       "      <td>1.1</td>\n",
       "      <td>39343.0</td>\n",
       "    </tr>\n",
       "    <tr>\n",
       "      <th>1</th>\n",
       "      <td>1.3</td>\n",
       "      <td>46205.0</td>\n",
       "    </tr>\n",
       "    <tr>\n",
       "      <th>2</th>\n",
       "      <td>1.5</td>\n",
       "      <td>37731.0</td>\n",
       "    </tr>\n",
       "    <tr>\n",
       "      <th>3</th>\n",
       "      <td>2.0</td>\n",
       "      <td>43525.0</td>\n",
       "    </tr>\n",
       "    <tr>\n",
       "      <th>4</th>\n",
       "      <td>2.2</td>\n",
       "      <td>39891.0</td>\n",
       "    </tr>\n",
       "  </tbody>\n",
       "</table>\n",
       "</div>"
      ],
      "text/plain": [
       "   YearsExperience   Salary\n",
       "0              1.1  39343.0\n",
       "1              1.3  46205.0\n",
       "2              1.5  37731.0\n",
       "3              2.0  43525.0\n",
       "4              2.2  39891.0"
      ]
     },
     "execution_count": 7,
     "metadata": {},
     "output_type": "execute_result"
    }
   ],
   "source": [
    "df=pd.read_csv(\"C:\\\\Users\\\\Admin\\\\Downloads\\\\Salary_Data.csv\")\n",
    "salary.head()"
   ]
  },
  {
   "cell_type": "code",
   "execution_count": 8,
   "id": "a20ce554",
   "metadata": {},
   "outputs": [
    {
     "name": "stdout",
     "output_type": "stream",
     "text": [
      "<class 'pandas.core.frame.DataFrame'>\n",
      "RangeIndex: 30 entries, 0 to 29\n",
      "Data columns (total 2 columns):\n",
      " #   Column           Non-Null Count  Dtype  \n",
      "---  ------           --------------  -----  \n",
      " 0   YearsExperience  30 non-null     float64\n",
      " 1   Salary           30 non-null     float64\n",
      "dtypes: float64(2)\n",
      "memory usage: 608.0 bytes\n"
     ]
    }
   ],
   "source": [
    "df.info()"
   ]
  },
  {
   "cell_type": "code",
   "execution_count": 9,
   "id": "bdf3648a",
   "metadata": {},
   "outputs": [
    {
     "data": {
      "text/plain": [
       "(30, 2)"
      ]
     },
     "execution_count": 9,
     "metadata": {},
     "output_type": "execute_result"
    }
   ],
   "source": [
    "df.shape"
   ]
  },
  {
   "cell_type": "code",
   "execution_count": 10,
   "id": "ceb970e2",
   "metadata": {},
   "outputs": [
    {
     "data": {
      "text/plain": [
       "YearsExperience    float64\n",
       "Salary             float64\n",
       "dtype: object"
      ]
     },
     "execution_count": 10,
     "metadata": {},
     "output_type": "execute_result"
    }
   ],
   "source": [
    "df.dtypes"
   ]
  },
  {
   "cell_type": "code",
   "execution_count": 11,
   "id": "b0ffeda0",
   "metadata": {},
   "outputs": [
    {
     "data": {
      "text/plain": [
       "YearsExperience    0\n",
       "Salary             0\n",
       "dtype: int64"
      ]
     },
     "execution_count": 11,
     "metadata": {},
     "output_type": "execute_result"
    }
   ],
   "source": [
    "df.isnull().sum()"
   ]
  },
  {
   "cell_type": "code",
   "execution_count": 12,
   "id": "ac6cb96d",
   "metadata": {},
   "outputs": [
    {
     "data": {
      "text/plain": [
       "<AxesSubplot:xlabel='YearsExperience', ylabel='Salary'>"
      ]
     },
     "execution_count": 12,
     "metadata": {},
     "output_type": "execute_result"
    },
    {
     "data": {
      "image/png": "[encoded data removed]",
      "text/plain": [
       "<Figure size 360x360 with 1 Axes>"
      ]
     },
     "metadata": {
      "needs_background": "light"
     },
     "output_type": "display_data"
    }
   ],
   "source": [
    "import seaborn as sns\n",
    "import matplotlib.pyplot as plt\n",
    "plt.figure(figsize=(5,5))\n",
    "sns.scatterplot(x='YearsExperience', y='Salary', data=df,palette='set1')"
   ]
  },
  {
   "cell_type": "code",
   "execution_count": 20,
   "id": "36f4536d",
   "metadata": {},
   "outputs": [
    {
     "data": {
      "text/plain": [
       "<AxesSubplot:xlabel='YearsExperience', ylabel='Density'>"
      ]
     },
     "execution_count": 20,
     "metadata": {},
     "output_type": "execute_result"
    },
    {
     "data": {
      "image/png": "[encoded data removed]",
      "text/plain": [
       "<Figure size 432x288 with 1 Axes>"
      ]
     },
     "metadata": {
      "needs_background": "light"
     },
     "output_type": "display_data"
    }
   ],
   "source": [
    "import seaborn as sns\n",
    "sns.distplot(df['YearsExperience'])"
   ]
  },
  {
   "cell_type": "code",
   "execution_count": 21,
   "id": "21ffac41",
   "metadata": {},
   "outputs": [
    {
     "data": {
      "text/plain": [
       "<AxesSubplot:xlabel='Salary', ylabel='Density'>"
      ]
     },
     "execution_count": 21,
     "metadata": {},
     "output_type": "execute_result"
    },
    {
     "data": {
      "image/png": "[encoded data removed]",
      "text/plain": [
       "<Figure size 432x288 with 1 Axes>"
      ]
     },
     "metadata": {
      "needs_background": "light"
     },
     "output_type": "display_data"
    }
   ],
   "source": [
    "import seaborn as sns\n",
    "sns.distplot(df['Salary'])"
   ]
  },
  {
   "cell_type": "code",
   "execution_count": 22,
   "id": "1d5369fd",
   "metadata": {},
   "outputs": [
    {
     "data": {
      "text/plain": [
       "{'whiskers': [<matplotlib.lines.Line2D at 0x16d59cfd7f0>,\n",
       "  <matplotlib.lines.Line2D at 0x16d59cfdb80>],\n",
       " 'caps': [<matplotlib.lines.Line2D at 0x16d59cfdf10>,\n",
       "  <matplotlib.lines.Line2D at 0x16d59d0a2e0>],\n",
       " 'boxes': [<matplotlib.lines.Line2D at 0x16d59cfd460>],\n",
       " 'medians': [<matplotlib.lines.Line2D at 0x16d59d0a670>],\n",
       " 'fliers': [<matplotlib.lines.Line2D at 0x16d59d0aa00>],\n",
       " 'means': []}"
      ]
     },
     "execution_count": 22,
     "metadata": {},
     "output_type": "execute_result"
    },
    {
     "data": {
      "image/png": "[encoded data removed]",
      "text/plain": [
       "<Figure size 432x288 with 1 Axes>"
      ]
     },
     "metadata": {
      "needs_background": "light"
     },
     "output_type": "display_data"
    }
   ],
   "source": [
    "plt.boxplot(df['YearsExperience'])"
   ]
  },
  {
   "cell_type": "code",
   "execution_count": 23,
   "id": "f72a6eae",
   "metadata": {},
   "outputs": [
    {
     "data": {
      "text/plain": [
       "{'whiskers': [<matplotlib.lines.Line2D at 0x16d59d5dbb0>,\n",
       "  <matplotlib.lines.Line2D at 0x16d59d5df40>],\n",
       " 'caps': [<matplotlib.lines.Line2D at 0x16d59d6c310>,\n",
       "  <matplotlib.lines.Line2D at 0x16d59d6c6a0>],\n",
       " 'boxes': [<matplotlib.lines.Line2D at 0x16d59d5d820>],\n",
       " 'medians': [<matplotlib.lines.Line2D at 0x16d59d6ca30>],\n",
       " 'fliers': [<matplotlib.lines.Line2D at 0x16d59d6cdc0>],\n",
       " 'means': []}"
      ]
     },
     "execution_count": 23,
     "metadata": {},
     "output_type": "execute_result"
    },
    {
     "data": {
      "image/png": "[encoded data removed]",
      "text/plain": [
       "<Figure size 432x288 with 1 Axes>"
      ]
     },
     "metadata": {
      "needs_background": "light"
     },
     "output_type": "display_data"
    }
   ],
   "source": [
    "plt.boxplot(df['Salary'])"
   ]
  },
  {
   "cell_type": "code",
   "execution_count": 25,
   "id": "9f99c154",
   "metadata": {},
   "outputs": [
    {
     "data": {
      "text/html": [
       "<div>\n",
       "<style scoped>\n",
       "    .dataframe tbody tr th:only-of-type {\n",
       "        vertical-align: middle;\n",
       "    }\n",
       "\n",
       "    .dataframe tbody tr th {\n",
       "        vertical-align: top;\n",
       "    }\n",
       "\n",
       "    .dataframe thead th {\n",
       "        text-align: right;\n",
       "    }\n",
       "</style>\n",
       "<table border=\"1\" class=\"dataframe\">\n",
       "  <thead>\n",
       "    <tr style=\"text-align: right;\">\n",
       "      <th></th>\n",
       "      <th>YearsExperience</th>\n",
       "      <th>Salary</th>\n",
       "    </tr>\n",
       "  </thead>\n",
       "  <tbody>\n",
       "    <tr>\n",
       "      <th>YearsExperience</th>\n",
       "      <td>1.000000</td>\n",
       "      <td>0.978242</td>\n",
       "    </tr>\n",
       "    <tr>\n",
       "      <th>Salary</th>\n",
       "      <td>0.978242</td>\n",
       "      <td>1.000000</td>\n",
       "    </tr>\n",
       "  </tbody>\n",
       "</table>\n",
       "</div>"
      ],
      "text/plain": [
       "                 YearsExperience    Salary\n",
       "YearsExperience         1.000000  0.978242\n",
       "Salary                  0.978242  1.000000"
      ]
     },
     "execution_count": 25,
     "metadata": {},
     "output_type": "execute_result"
    }
   ],
   "source": [
    "df.corr()"
   ]
  },
  {
   "cell_type": "code",
   "execution_count": 27,
   "id": "7d8cdab5",
   "metadata": {},
   "outputs": [
    {
     "data": {
      "text/html": [
       "<div>\n",
       "<style scoped>\n",
       "    .dataframe tbody tr th:only-of-type {\n",
       "        vertical-align: middle;\n",
       "    }\n",
       "\n",
       "    .dataframe tbody tr th {\n",
       "        vertical-align: top;\n",
       "    }\n",
       "\n",
       "    .dataframe thead th {\n",
       "        text-align: right;\n",
       "    }\n",
       "</style>\n",
       "<table border=\"1\" class=\"dataframe\">\n",
       "  <thead>\n",
       "    <tr style=\"text-align: right;\">\n",
       "      <th></th>\n",
       "      <th>YearsExperience</th>\n",
       "      <th>Salary</th>\n",
       "    </tr>\n",
       "  </thead>\n",
       "  <tbody>\n",
       "    <tr>\n",
       "      <th>0</th>\n",
       "      <td>1.1</td>\n",
       "      <td>39343.0</td>\n",
       "    </tr>\n",
       "    <tr>\n",
       "      <th>1</th>\n",
       "      <td>1.3</td>\n",
       "      <td>46205.0</td>\n",
       "    </tr>\n",
       "    <tr>\n",
       "      <th>2</th>\n",
       "      <td>1.5</td>\n",
       "      <td>37731.0</td>\n",
       "    </tr>\n",
       "    <tr>\n",
       "      <th>3</th>\n",
       "      <td>2.0</td>\n",
       "      <td>43525.0</td>\n",
       "    </tr>\n",
       "    <tr>\n",
       "      <th>4</th>\n",
       "      <td>2.2</td>\n",
       "      <td>39891.0</td>\n",
       "    </tr>\n",
       "  </tbody>\n",
       "</table>\n",
       "</div>"
      ],
      "text/plain": [
       "   YearsExperience   Salary\n",
       "0              1.1  39343.0\n",
       "1              1.3  46205.0\n",
       "2              1.5  37731.0\n",
       "3              2.0  43525.0\n",
       "4              2.2  39891.0"
      ]
     },
     "execution_count": 27,
     "metadata": {},
     "output_type": "execute_result"
    }
   ],
   "source": [
    "data1=df.copy()\n",
    "data1.head()"
   ]
  },
  {
   "cell_type": "code",
   "execution_count": 28,
   "id": "270435b3",
   "metadata": {},
   "outputs": [],
   "source": [
    "import statsmodels.formula.api as smf"
   ]
  },
  {
   "cell_type": "code",
   "execution_count": 29,
   "id": "25c123f4",
   "metadata": {},
   "outputs": [],
   "source": [
    "model=smf.ols(\"Salary~YearsExperience\", data=df).fit()"
   ]
  },
  {
   "cell_type": "code",
   "execution_count": 30,
   "id": "a0b46f4f",
   "metadata": {},
   "outputs": [
    {
     "data": {
      "image/png": "[encoded data removed]",
      "text/plain": [
       "<Figure size 432x288 with 1 Axes>"
      ]
     },
     "metadata": {
      "needs_background": "light"
     },
     "output_type": "display_data"
    }
   ],
   "source": [
    "sns.regplot(x='YearsExperience',y='Salary', data=df);"
   ]
  },
  {
   "cell_type": "code",
   "execution_count": 31,
   "id": "639f5e65",
   "metadata": {},
   "outputs": [
    {
     "data": {
      "text/plain": [
       "Intercept          25792.200199\n",
       "YearsExperience     9449.962321\n",
       "dtype: float64"
      ]
     },
     "execution_count": 31,
     "metadata": {},
     "output_type": "execute_result"
    }
   ],
   "source": [
    "model.params"
   ]
  },
  {
   "cell_type": "markdown",
   "id": "db5ca241",
   "metadata": {},
   "source": [
    "For every unit increase in the YearsEXperinece value, the value for Salary will increase by 25792.200199"
   ]
  },
  {
   "cell_type": "code",
   "execution_count": 32,
   "id": "e738245c",
   "metadata": {},
   "outputs": [
    {
     "data": {
      "text/plain": [
       "0      36187.158752\n",
       "1      38077.151217\n",
       "2      39967.143681\n",
       "3      44692.124842\n",
       "4      46582.117306\n",
       "5      53197.090931\n",
       "6      54142.087163\n",
       "7      56032.079627\n",
       "8      56032.079627\n",
       "9      60757.060788\n",
       "10     62647.053252\n",
       "11     63592.049484\n",
       "12     63592.049484\n",
       "13     64537.045717\n",
       "14     68317.030645\n",
       "15     72097.015574\n",
       "16     73987.008038\n",
       "17     75877.000502\n",
       "18     81546.977895\n",
       "19     82491.974127\n",
       "20     90051.943985\n",
       "21     92886.932681\n",
       "22    100446.902538\n",
       "23    103281.891235\n",
       "24    108006.872395\n",
       "25    110841.861092\n",
       "26    115566.842252\n",
       "27    116511.838485\n",
       "28    123126.812110\n",
       "29    125016.804574\n",
       "dtype: float64"
      ]
     },
     "execution_count": 32,
     "metadata": {},
     "output_type": "execute_result"
    }
   ],
   "source": [
    "model.fittedvalues"
   ]
  },
  {
   "cell_type": "code",
   "execution_count": 33,
   "id": "37a4d7ff",
   "metadata": {},
   "outputs": [
    {
     "data": {
      "text/html": [
       "<div>\n",
       "<style scoped>\n",
       "    .dataframe tbody tr th:only-of-type {\n",
       "        vertical-align: middle;\n",
       "    }\n",
       "\n",
       "    .dataframe tbody tr th {\n",
       "        vertical-align: top;\n",
       "    }\n",
       "\n",
       "    .dataframe thead th {\n",
       "        text-align: right;\n",
       "    }\n",
       "</style>\n",
       "<table border=\"1\" class=\"dataframe\">\n",
       "  <thead>\n",
       "    <tr style=\"text-align: right;\">\n",
       "      <th></th>\n",
       "      <th>YearsExperience</th>\n",
       "      <th>Salary</th>\n",
       "      <th>Predicated Values</th>\n",
       "    </tr>\n",
       "  </thead>\n",
       "  <tbody>\n",
       "    <tr>\n",
       "      <th>0</th>\n",
       "      <td>1.1</td>\n",
       "      <td>39343.0</td>\n",
       "      <td>36187.158752</td>\n",
       "    </tr>\n",
       "    <tr>\n",
       "      <th>1</th>\n",
       "      <td>1.3</td>\n",
       "      <td>46205.0</td>\n",
       "      <td>38077.151217</td>\n",
       "    </tr>\n",
       "    <tr>\n",
       "      <th>2</th>\n",
       "      <td>1.5</td>\n",
       "      <td>37731.0</td>\n",
       "      <td>39967.143681</td>\n",
       "    </tr>\n",
       "    <tr>\n",
       "      <th>3</th>\n",
       "      <td>2.0</td>\n",
       "      <td>43525.0</td>\n",
       "      <td>44692.124842</td>\n",
       "    </tr>\n",
       "    <tr>\n",
       "      <th>4</th>\n",
       "      <td>2.2</td>\n",
       "      <td>39891.0</td>\n",
       "      <td>46582.117306</td>\n",
       "    </tr>\n",
       "    <tr>\n",
       "      <th>5</th>\n",
       "      <td>2.9</td>\n",
       "      <td>56642.0</td>\n",
       "      <td>53197.090931</td>\n",
       "    </tr>\n",
       "    <tr>\n",
       "      <th>6</th>\n",
       "      <td>3.0</td>\n",
       "      <td>60150.0</td>\n",
       "      <td>54142.087163</td>\n",
       "    </tr>\n",
       "    <tr>\n",
       "      <th>7</th>\n",
       "      <td>3.2</td>\n",
       "      <td>54445.0</td>\n",
       "      <td>56032.079627</td>\n",
       "    </tr>\n",
       "    <tr>\n",
       "      <th>8</th>\n",
       "      <td>3.2</td>\n",
       "      <td>64445.0</td>\n",
       "      <td>56032.079627</td>\n",
       "    </tr>\n",
       "    <tr>\n",
       "      <th>9</th>\n",
       "      <td>3.7</td>\n",
       "      <td>57189.0</td>\n",
       "      <td>60757.060788</td>\n",
       "    </tr>\n",
       "    <tr>\n",
       "      <th>10</th>\n",
       "      <td>3.9</td>\n",
       "      <td>63218.0</td>\n",
       "      <td>62647.053252</td>\n",
       "    </tr>\n",
       "    <tr>\n",
       "      <th>11</th>\n",
       "      <td>4.0</td>\n",
       "      <td>55794.0</td>\n",
       "      <td>63592.049484</td>\n",
       "    </tr>\n",
       "    <tr>\n",
       "      <th>12</th>\n",
       "      <td>4.0</td>\n",
       "      <td>56957.0</td>\n",
       "      <td>63592.049484</td>\n",
       "    </tr>\n",
       "    <tr>\n",
       "      <th>13</th>\n",
       "      <td>4.1</td>\n",
       "      <td>57081.0</td>\n",
       "      <td>64537.045717</td>\n",
       "    </tr>\n",
       "    <tr>\n",
       "      <th>14</th>\n",
       "      <td>4.5</td>\n",
       "      <td>61111.0</td>\n",
       "      <td>68317.030645</td>\n",
       "    </tr>\n",
       "    <tr>\n",
       "      <th>15</th>\n",
       "      <td>4.9</td>\n",
       "      <td>67938.0</td>\n",
       "      <td>72097.015574</td>\n",
       "    </tr>\n",
       "    <tr>\n",
       "      <th>16</th>\n",
       "      <td>5.1</td>\n",
       "      <td>66029.0</td>\n",
       "      <td>73987.008038</td>\n",
       "    </tr>\n",
       "    <tr>\n",
       "      <th>17</th>\n",
       "      <td>5.3</td>\n",
       "      <td>83088.0</td>\n",
       "      <td>75877.000502</td>\n",
       "    </tr>\n",
       "    <tr>\n",
       "      <th>18</th>\n",
       "      <td>5.9</td>\n",
       "      <td>81363.0</td>\n",
       "      <td>81546.977895</td>\n",
       "    </tr>\n",
       "    <tr>\n",
       "      <th>19</th>\n",
       "      <td>6.0</td>\n",
       "      <td>93940.0</td>\n",
       "      <td>82491.974127</td>\n",
       "    </tr>\n",
       "    <tr>\n",
       "      <th>20</th>\n",
       "      <td>6.8</td>\n",
       "      <td>91738.0</td>\n",
       "      <td>90051.943985</td>\n",
       "    </tr>\n",
       "    <tr>\n",
       "      <th>21</th>\n",
       "      <td>7.1</td>\n",
       "      <td>98273.0</td>\n",
       "      <td>92886.932681</td>\n",
       "    </tr>\n",
       "    <tr>\n",
       "      <th>22</th>\n",
       "      <td>7.9</td>\n",
       "      <td>101302.0</td>\n",
       "      <td>100446.902538</td>\n",
       "    </tr>\n",
       "    <tr>\n",
       "      <th>23</th>\n",
       "      <td>8.2</td>\n",
       "      <td>113812.0</td>\n",
       "      <td>103281.891235</td>\n",
       "    </tr>\n",
       "    <tr>\n",
       "      <th>24</th>\n",
       "      <td>8.7</td>\n",
       "      <td>109431.0</td>\n",
       "      <td>108006.872395</td>\n",
       "    </tr>\n",
       "    <tr>\n",
       "      <th>25</th>\n",
       "      <td>9.0</td>\n",
       "      <td>105582.0</td>\n",
       "      <td>110841.861092</td>\n",
       "    </tr>\n",
       "    <tr>\n",
       "      <th>26</th>\n",
       "      <td>9.5</td>\n",
       "      <td>116969.0</td>\n",
       "      <td>115566.842252</td>\n",
       "    </tr>\n",
       "    <tr>\n",
       "      <th>27</th>\n",
       "      <td>9.6</td>\n",
       "      <td>112635.0</td>\n",
       "      <td>116511.838485</td>\n",
       "    </tr>\n",
       "    <tr>\n",
       "      <th>28</th>\n",
       "      <td>10.3</td>\n",
       "      <td>122391.0</td>\n",
       "      <td>123126.812110</td>\n",
       "    </tr>\n",
       "    <tr>\n",
       "      <th>29</th>\n",
       "      <td>10.5</td>\n",
       "      <td>121872.0</td>\n",
       "      <td>125016.804574</td>\n",
       "    </tr>\n",
       "  </tbody>\n",
       "</table>\n",
       "</div>"
      ],
      "text/plain": [
       "    YearsExperience    Salary  Predicated Values\n",
       "0               1.1   39343.0       36187.158752\n",
       "1               1.3   46205.0       38077.151217\n",
       "2               1.5   37731.0       39967.143681\n",
       "3               2.0   43525.0       44692.124842\n",
       "4               2.2   39891.0       46582.117306\n",
       "5               2.9   56642.0       53197.090931\n",
       "6               3.0   60150.0       54142.087163\n",
       "7               3.2   54445.0       56032.079627\n",
       "8               3.2   64445.0       56032.079627\n",
       "9               3.7   57189.0       60757.060788\n",
       "10              3.9   63218.0       62647.053252\n",
       "11              4.0   55794.0       63592.049484\n",
       "12              4.0   56957.0       63592.049484\n",
       "13              4.1   57081.0       64537.045717\n",
       "14              4.5   61111.0       68317.030645\n",
       "15              4.9   67938.0       72097.015574\n",
       "16              5.1   66029.0       73987.008038\n",
       "17              5.3   83088.0       75877.000502\n",
       "18              5.9   81363.0       81546.977895\n",
       "19              6.0   93940.0       82491.974127\n",
       "20              6.8   91738.0       90051.943985\n",
       "21              7.1   98273.0       92886.932681\n",
       "22              7.9  101302.0      100446.902538\n",
       "23              8.2  113812.0      103281.891235\n",
       "24              8.7  109431.0      108006.872395\n",
       "25              9.0  105582.0      110841.861092\n",
       "26              9.5  116969.0      115566.842252\n",
       "27              9.6  112635.0      116511.838485\n",
       "28             10.3  122391.0      123126.812110\n",
       "29             10.5  121872.0      125016.804574"
      ]
     },
     "execution_count": 33,
     "metadata": {},
     "output_type": "execute_result"
    }
   ],
   "source": [
    "df['Predicated Values']=model.fittedvalues\n",
    "df"
   ]
  },
  {
   "cell_type": "code",
   "execution_count": 25,
   "id": "457d5793",
   "metadata": {},
   "outputs": [
    {
     "data": {
      "text/plain": [
       "0      3155.841248\n",
       "1      8127.848783\n",
       "2     -2236.143681\n",
       "3     -1167.124842\n",
       "4     -6691.117306\n",
       "5      3444.909069\n",
       "6      6007.912837\n",
       "7     -1587.079627\n",
       "8      8412.920373\n",
       "9     -3568.060788\n",
       "10      570.946748\n",
       "11    -7798.049484\n",
       "12    -6635.049484\n",
       "13    -7456.045717\n",
       "14    -7206.030645\n",
       "15    -4159.015574\n",
       "16    -7958.008038\n",
       "17     7210.999498\n",
       "18     -183.977895\n",
       "19    11448.025873\n",
       "20     1686.056015\n",
       "21     5386.067319\n",
       "22      855.097462\n",
       "23    10530.108765\n",
       "24     1424.127605\n",
       "25    -5259.861092\n",
       "26     1402.157748\n",
       "27    -3876.838485\n",
       "28     -735.812110\n",
       "29    -3144.804574\n",
       "dtype: float64"
      ]
     },
     "execution_count": 25,
     "metadata": {},
     "output_type": "execute_result"
    }
   ],
   "source": [
    "model.resid"
   ]
  },
  {
   "cell_type": "code",
   "execution_count": 26,
   "id": "dbf89f76",
   "metadata": {},
   "outputs": [
    {
     "data": {
      "text/plain": [
       "Intercept          5.511950e-12\n",
       "YearsExperience    1.143068e-20\n",
       "dtype: float64"
      ]
     },
     "execution_count": 26,
     "metadata": {},
     "output_type": "execute_result"
    }
   ],
   "source": [
    "model.pvalues"
   ]
  },
  {
   "cell_type": "markdown",
   "id": "d7c290b7",
   "metadata": {},
   "source": [
    "Since p-value is less then 0.05 for 'YearsExperience ' variable, \n",
    "we can say that it is a significant variable in predicting the dependent variable 'Salary' '''"
   ]
  },
  {
   "cell_type": "code",
   "execution_count": 27,
   "id": "cd162090",
   "metadata": {},
   "outputs": [
    {
     "data": {
      "text/plain": [
       "0.9569566641435086"
      ]
     },
     "execution_count": 27,
     "metadata": {},
     "output_type": "execute_result"
    }
   ],
   "source": [
    "model.rsquared"
   ]
  },
  {
   "cell_type": "code",
   "execution_count": 34,
   "id": "e2911eb9",
   "metadata": {},
   "outputs": [
    {
     "data": {
      "text/html": [
       "<div>\n",
       "<style scoped>\n",
       "    .dataframe tbody tr th:only-of-type {\n",
       "        vertical-align: middle;\n",
       "    }\n",
       "\n",
       "    .dataframe tbody tr th {\n",
       "        vertical-align: top;\n",
       "    }\n",
       "\n",
       "    .dataframe thead th {\n",
       "        text-align: right;\n",
       "    }\n",
       "</style>\n",
       "<table border=\"1\" class=\"dataframe\">\n",
       "  <thead>\n",
       "    <tr style=\"text-align: right;\">\n",
       "      <th></th>\n",
       "      <th>YearsExperience</th>\n",
       "      <th>Salary</th>\n",
       "    </tr>\n",
       "  </thead>\n",
       "  <tbody>\n",
       "    <tr>\n",
       "      <th>0</th>\n",
       "      <td>1.1</td>\n",
       "      <td>39343.0</td>\n",
       "    </tr>\n",
       "    <tr>\n",
       "      <th>1</th>\n",
       "      <td>1.3</td>\n",
       "      <td>46205.0</td>\n",
       "    </tr>\n",
       "    <tr>\n",
       "      <th>2</th>\n",
       "      <td>1.5</td>\n",
       "      <td>37731.0</td>\n",
       "    </tr>\n",
       "    <tr>\n",
       "      <th>3</th>\n",
       "      <td>2.0</td>\n",
       "      <td>43525.0</td>\n",
       "    </tr>\n",
       "    <tr>\n",
       "      <th>4</th>\n",
       "      <td>2.2</td>\n",
       "      <td>39891.0</td>\n",
       "    </tr>\n",
       "    <tr>\n",
       "      <th>5</th>\n",
       "      <td>2.9</td>\n",
       "      <td>56642.0</td>\n",
       "    </tr>\n",
       "    <tr>\n",
       "      <th>6</th>\n",
       "      <td>3.0</td>\n",
       "      <td>60150.0</td>\n",
       "    </tr>\n",
       "    <tr>\n",
       "      <th>7</th>\n",
       "      <td>3.2</td>\n",
       "      <td>54445.0</td>\n",
       "    </tr>\n",
       "    <tr>\n",
       "      <th>8</th>\n",
       "      <td>3.2</td>\n",
       "      <td>64445.0</td>\n",
       "    </tr>\n",
       "    <tr>\n",
       "      <th>9</th>\n",
       "      <td>3.7</td>\n",
       "      <td>57189.0</td>\n",
       "    </tr>\n",
       "    <tr>\n",
       "      <th>10</th>\n",
       "      <td>3.9</td>\n",
       "      <td>63218.0</td>\n",
       "    </tr>\n",
       "    <tr>\n",
       "      <th>11</th>\n",
       "      <td>4.0</td>\n",
       "      <td>55794.0</td>\n",
       "    </tr>\n",
       "    <tr>\n",
       "      <th>12</th>\n",
       "      <td>4.0</td>\n",
       "      <td>56957.0</td>\n",
       "    </tr>\n",
       "    <tr>\n",
       "      <th>13</th>\n",
       "      <td>4.1</td>\n",
       "      <td>57081.0</td>\n",
       "    </tr>\n",
       "    <tr>\n",
       "      <th>14</th>\n",
       "      <td>4.5</td>\n",
       "      <td>61111.0</td>\n",
       "    </tr>\n",
       "    <tr>\n",
       "      <th>15</th>\n",
       "      <td>4.9</td>\n",
       "      <td>67938.0</td>\n",
       "    </tr>\n",
       "    <tr>\n",
       "      <th>16</th>\n",
       "      <td>5.1</td>\n",
       "      <td>66029.0</td>\n",
       "    </tr>\n",
       "    <tr>\n",
       "      <th>17</th>\n",
       "      <td>5.3</td>\n",
       "      <td>83088.0</td>\n",
       "    </tr>\n",
       "    <tr>\n",
       "      <th>18</th>\n",
       "      <td>5.9</td>\n",
       "      <td>81363.0</td>\n",
       "    </tr>\n",
       "    <tr>\n",
       "      <th>19</th>\n",
       "      <td>6.0</td>\n",
       "      <td>93940.0</td>\n",
       "    </tr>\n",
       "    <tr>\n",
       "      <th>20</th>\n",
       "      <td>6.8</td>\n",
       "      <td>91738.0</td>\n",
       "    </tr>\n",
       "    <tr>\n",
       "      <th>21</th>\n",
       "      <td>7.1</td>\n",
       "      <td>98273.0</td>\n",
       "    </tr>\n",
       "    <tr>\n",
       "      <th>22</th>\n",
       "      <td>7.9</td>\n",
       "      <td>101302.0</td>\n",
       "    </tr>\n",
       "    <tr>\n",
       "      <th>23</th>\n",
       "      <td>8.2</td>\n",
       "      <td>113812.0</td>\n",
       "    </tr>\n",
       "    <tr>\n",
       "      <th>24</th>\n",
       "      <td>8.7</td>\n",
       "      <td>109431.0</td>\n",
       "    </tr>\n",
       "    <tr>\n",
       "      <th>25</th>\n",
       "      <td>9.0</td>\n",
       "      <td>105582.0</td>\n",
       "    </tr>\n",
       "    <tr>\n",
       "      <th>26</th>\n",
       "      <td>9.5</td>\n",
       "      <td>116969.0</td>\n",
       "    </tr>\n",
       "    <tr>\n",
       "      <th>27</th>\n",
       "      <td>9.6</td>\n",
       "      <td>112635.0</td>\n",
       "    </tr>\n",
       "    <tr>\n",
       "      <th>28</th>\n",
       "      <td>10.3</td>\n",
       "      <td>122391.0</td>\n",
       "    </tr>\n",
       "    <tr>\n",
       "      <th>29</th>\n",
       "      <td>10.5</td>\n",
       "      <td>121872.0</td>\n",
       "    </tr>\n",
       "  </tbody>\n",
       "</table>\n",
       "</div>"
      ],
      "text/plain": [
       "    YearsExperience    Salary\n",
       "0               1.1   39343.0\n",
       "1               1.3   46205.0\n",
       "2               1.5   37731.0\n",
       "3               2.0   43525.0\n",
       "4               2.2   39891.0\n",
       "5               2.9   56642.0\n",
       "6               3.0   60150.0\n",
       "7               3.2   54445.0\n",
       "8               3.2   64445.0\n",
       "9               3.7   57189.0\n",
       "10              3.9   63218.0\n",
       "11              4.0   55794.0\n",
       "12              4.0   56957.0\n",
       "13              4.1   57081.0\n",
       "14              4.5   61111.0\n",
       "15              4.9   67938.0\n",
       "16              5.1   66029.0\n",
       "17              5.3   83088.0\n",
       "18              5.9   81363.0\n",
       "19              6.0   93940.0\n",
       "20              6.8   91738.0\n",
       "21              7.1   98273.0\n",
       "22              7.9  101302.0\n",
       "23              8.2  113812.0\n",
       "24              8.7  109431.0\n",
       "25              9.0  105582.0\n",
       "26              9.5  116969.0\n",
       "27              9.6  112635.0\n",
       "28             10.3  122391.0\n",
       "29             10.5  121872.0"
      ]
     },
     "execution_count": 34,
     "metadata": {},
     "output_type": "execute_result"
    }
   ],
   "source": [
    "df['Error']=model.resid\n",
    "salary"
   ]
  },
  {
   "cell_type": "code",
   "execution_count": 37,
   "id": "97c7b514",
   "metadata": {},
   "outputs": [
    {
     "data": {
      "text/html": [
       "<div>\n",
       "<style scoped>\n",
       "    .dataframe tbody tr th:only-of-type {\n",
       "        vertical-align: middle;\n",
       "    }\n",
       "\n",
       "    .dataframe tbody tr th {\n",
       "        vertical-align: top;\n",
       "    }\n",
       "\n",
       "    .dataframe thead th {\n",
       "        text-align: right;\n",
       "    }\n",
       "</style>\n",
       "<table border=\"1\" class=\"dataframe\">\n",
       "  <thead>\n",
       "    <tr style=\"text-align: right;\">\n",
       "      <th></th>\n",
       "      <th>YearsExperience</th>\n",
       "      <th>Salary</th>\n",
       "      <th>Predicated Values</th>\n",
       "      <th>Error</th>\n",
       "      <th>Error_sq</th>\n",
       "    </tr>\n",
       "  </thead>\n",
       "  <tbody>\n",
       "    <tr>\n",
       "      <th>0</th>\n",
       "      <td>1.1</td>\n",
       "      <td>39343.0</td>\n",
       "      <td>36187.158752</td>\n",
       "      <td>3155.841248</td>\n",
       "      <td>9.959334e+06</td>\n",
       "    </tr>\n",
       "    <tr>\n",
       "      <th>1</th>\n",
       "      <td>1.3</td>\n",
       "      <td>46205.0</td>\n",
       "      <td>38077.151217</td>\n",
       "      <td>8127.848783</td>\n",
       "      <td>6.606193e+07</td>\n",
       "    </tr>\n",
       "    <tr>\n",
       "      <th>2</th>\n",
       "      <td>1.5</td>\n",
       "      <td>37731.0</td>\n",
       "      <td>39967.143681</td>\n",
       "      <td>-2236.143681</td>\n",
       "      <td>5.000339e+06</td>\n",
       "    </tr>\n",
       "    <tr>\n",
       "      <th>3</th>\n",
       "      <td>2.0</td>\n",
       "      <td>43525.0</td>\n",
       "      <td>44692.124842</td>\n",
       "      <td>-1167.124842</td>\n",
       "      <td>1.362180e+06</td>\n",
       "    </tr>\n",
       "    <tr>\n",
       "      <th>4</th>\n",
       "      <td>2.2</td>\n",
       "      <td>39891.0</td>\n",
       "      <td>46582.117306</td>\n",
       "      <td>-6691.117306</td>\n",
       "      <td>4.477105e+07</td>\n",
       "    </tr>\n",
       "    <tr>\n",
       "      <th>5</th>\n",
       "      <td>2.9</td>\n",
       "      <td>56642.0</td>\n",
       "      <td>53197.090931</td>\n",
       "      <td>3444.909069</td>\n",
       "      <td>1.186740e+07</td>\n",
       "    </tr>\n",
       "    <tr>\n",
       "      <th>6</th>\n",
       "      <td>3.0</td>\n",
       "      <td>60150.0</td>\n",
       "      <td>54142.087163</td>\n",
       "      <td>6007.912837</td>\n",
       "      <td>3.609502e+07</td>\n",
       "    </tr>\n",
       "    <tr>\n",
       "      <th>7</th>\n",
       "      <td>3.2</td>\n",
       "      <td>54445.0</td>\n",
       "      <td>56032.079627</td>\n",
       "      <td>-1587.079627</td>\n",
       "      <td>2.518822e+06</td>\n",
       "    </tr>\n",
       "    <tr>\n",
       "      <th>8</th>\n",
       "      <td>3.2</td>\n",
       "      <td>64445.0</td>\n",
       "      <td>56032.079627</td>\n",
       "      <td>8412.920373</td>\n",
       "      <td>7.077723e+07</td>\n",
       "    </tr>\n",
       "    <tr>\n",
       "      <th>9</th>\n",
       "      <td>3.7</td>\n",
       "      <td>57189.0</td>\n",
       "      <td>60757.060788</td>\n",
       "      <td>-3568.060788</td>\n",
       "      <td>1.273106e+07</td>\n",
       "    </tr>\n",
       "    <tr>\n",
       "      <th>10</th>\n",
       "      <td>3.9</td>\n",
       "      <td>63218.0</td>\n",
       "      <td>62647.053252</td>\n",
       "      <td>570.946748</td>\n",
       "      <td>3.259802e+05</td>\n",
       "    </tr>\n",
       "    <tr>\n",
       "      <th>11</th>\n",
       "      <td>4.0</td>\n",
       "      <td>55794.0</td>\n",
       "      <td>63592.049484</td>\n",
       "      <td>-7798.049484</td>\n",
       "      <td>6.080958e+07</td>\n",
       "    </tr>\n",
       "    <tr>\n",
       "      <th>12</th>\n",
       "      <td>4.0</td>\n",
       "      <td>56957.0</td>\n",
       "      <td>63592.049484</td>\n",
       "      <td>-6635.049484</td>\n",
       "      <td>4.402388e+07</td>\n",
       "    </tr>\n",
       "    <tr>\n",
       "      <th>13</th>\n",
       "      <td>4.1</td>\n",
       "      <td>57081.0</td>\n",
       "      <td>64537.045717</td>\n",
       "      <td>-7456.045717</td>\n",
       "      <td>5.559262e+07</td>\n",
       "    </tr>\n",
       "    <tr>\n",
       "      <th>14</th>\n",
       "      <td>4.5</td>\n",
       "      <td>61111.0</td>\n",
       "      <td>68317.030645</td>\n",
       "      <td>-7206.030645</td>\n",
       "      <td>5.192688e+07</td>\n",
       "    </tr>\n",
       "    <tr>\n",
       "      <th>15</th>\n",
       "      <td>4.9</td>\n",
       "      <td>67938.0</td>\n",
       "      <td>72097.015574</td>\n",
       "      <td>-4159.015574</td>\n",
       "      <td>1.729741e+07</td>\n",
       "    </tr>\n",
       "    <tr>\n",
       "      <th>16</th>\n",
       "      <td>5.1</td>\n",
       "      <td>66029.0</td>\n",
       "      <td>73987.008038</td>\n",
       "      <td>-7958.008038</td>\n",
       "      <td>6.332989e+07</td>\n",
       "    </tr>\n",
       "    <tr>\n",
       "      <th>17</th>\n",
       "      <td>5.3</td>\n",
       "      <td>83088.0</td>\n",
       "      <td>75877.000502</td>\n",
       "      <td>7210.999498</td>\n",
       "      <td>5.199851e+07</td>\n",
       "    </tr>\n",
       "    <tr>\n",
       "      <th>18</th>\n",
       "      <td>5.9</td>\n",
       "      <td>81363.0</td>\n",
       "      <td>81546.977895</td>\n",
       "      <td>-183.977895</td>\n",
       "      <td>3.384787e+04</td>\n",
       "    </tr>\n",
       "    <tr>\n",
       "      <th>19</th>\n",
       "      <td>6.0</td>\n",
       "      <td>93940.0</td>\n",
       "      <td>82491.974127</td>\n",
       "      <td>11448.025873</td>\n",
       "      <td>1.310573e+08</td>\n",
       "    </tr>\n",
       "    <tr>\n",
       "      <th>20</th>\n",
       "      <td>6.8</td>\n",
       "      <td>91738.0</td>\n",
       "      <td>90051.943985</td>\n",
       "      <td>1686.056015</td>\n",
       "      <td>2.842785e+06</td>\n",
       "    </tr>\n",
       "    <tr>\n",
       "      <th>21</th>\n",
       "      <td>7.1</td>\n",
       "      <td>98273.0</td>\n",
       "      <td>92886.932681</td>\n",
       "      <td>5386.067319</td>\n",
       "      <td>2.900972e+07</td>\n",
       "    </tr>\n",
       "    <tr>\n",
       "      <th>22</th>\n",
       "      <td>7.9</td>\n",
       "      <td>101302.0</td>\n",
       "      <td>100446.902538</td>\n",
       "      <td>855.097462</td>\n",
       "      <td>7.311917e+05</td>\n",
       "    </tr>\n",
       "    <tr>\n",
       "      <th>23</th>\n",
       "      <td>8.2</td>\n",
       "      <td>113812.0</td>\n",
       "      <td>103281.891235</td>\n",
       "      <td>10530.108765</td>\n",
       "      <td>1.108832e+08</td>\n",
       "    </tr>\n",
       "    <tr>\n",
       "      <th>24</th>\n",
       "      <td>8.7</td>\n",
       "      <td>109431.0</td>\n",
       "      <td>108006.872395</td>\n",
       "      <td>1424.127605</td>\n",
       "      <td>2.028139e+06</td>\n",
       "    </tr>\n",
       "    <tr>\n",
       "      <th>25</th>\n",
       "      <td>9.0</td>\n",
       "      <td>105582.0</td>\n",
       "      <td>110841.861092</td>\n",
       "      <td>-5259.861092</td>\n",
       "      <td>2.766614e+07</td>\n",
       "    </tr>\n",
       "    <tr>\n",
       "      <th>26</th>\n",
       "      <td>9.5</td>\n",
       "      <td>116969.0</td>\n",
       "      <td>115566.842252</td>\n",
       "      <td>1402.157748</td>\n",
       "      <td>1.966046e+06</td>\n",
       "    </tr>\n",
       "    <tr>\n",
       "      <th>27</th>\n",
       "      <td>9.6</td>\n",
       "      <td>112635.0</td>\n",
       "      <td>116511.838485</td>\n",
       "      <td>-3876.838485</td>\n",
       "      <td>1.502988e+07</td>\n",
       "    </tr>\n",
       "    <tr>\n",
       "      <th>28</th>\n",
       "      <td>10.3</td>\n",
       "      <td>122391.0</td>\n",
       "      <td>123126.812110</td>\n",
       "      <td>-735.812110</td>\n",
       "      <td>5.414195e+05</td>\n",
       "    </tr>\n",
       "    <tr>\n",
       "      <th>29</th>\n",
       "      <td>10.5</td>\n",
       "      <td>121872.0</td>\n",
       "      <td>125016.804574</td>\n",
       "      <td>-3144.804574</td>\n",
       "      <td>9.889796e+06</td>\n",
       "    </tr>\n",
       "  </tbody>\n",
       "</table>\n",
       "</div>"
      ],
      "text/plain": [
       "    YearsExperience    Salary  Predicated Values         Error      Error_sq\n",
       "0               1.1   39343.0       36187.158752   3155.841248  9.959334e+06\n",
       "1               1.3   46205.0       38077.151217   8127.848783  6.606193e+07\n",
       "2               1.5   37731.0       39967.143681  -2236.143681  5.000339e+06\n",
       "3               2.0   43525.0       44692.124842  -1167.124842  1.362180e+06\n",
       "4               2.2   39891.0       46582.117306  -6691.117306  4.477105e+07\n",
       "5               2.9   56642.0       53197.090931   3444.909069  1.186740e+07\n",
       "6               3.0   60150.0       54142.087163   6007.912837  3.609502e+07\n",
       "7               3.2   54445.0       56032.079627  -1587.079627  2.518822e+06\n",
       "8               3.2   64445.0       56032.079627   8412.920373  7.077723e+07\n",
       "9               3.7   57189.0       60757.060788  -3568.060788  1.273106e+07\n",
       "10              3.9   63218.0       62647.053252    570.946748  3.259802e+05\n",
       "11              4.0   55794.0       63592.049484  -7798.049484  6.080958e+07\n",
       "12              4.0   56957.0       63592.049484  -6635.049484  4.402388e+07\n",
       "13              4.1   57081.0       64537.045717  -7456.045717  5.559262e+07\n",
       "14              4.5   61111.0       68317.030645  -7206.030645  5.192688e+07\n",
       "15              4.9   67938.0       72097.015574  -4159.015574  1.729741e+07\n",
       "16              5.1   66029.0       73987.008038  -7958.008038  6.332989e+07\n",
       "17              5.3   83088.0       75877.000502   7210.999498  5.199851e+07\n",
       "18              5.9   81363.0       81546.977895   -183.977895  3.384787e+04\n",
       "19              6.0   93940.0       82491.974127  11448.025873  1.310573e+08\n",
       "20              6.8   91738.0       90051.943985   1686.056015  2.842785e+06\n",
       "21              7.1   98273.0       92886.932681   5386.067319  2.900972e+07\n",
       "22              7.9  101302.0      100446.902538    855.097462  7.311917e+05\n",
       "23              8.2  113812.0      103281.891235  10530.108765  1.108832e+08\n",
       "24              8.7  109431.0      108006.872395   1424.127605  2.028139e+06\n",
       "25              9.0  105582.0      110841.861092  -5259.861092  2.766614e+07\n",
       "26              9.5  116969.0      115566.842252   1402.157748  1.966046e+06\n",
       "27              9.6  112635.0      116511.838485  -3876.838485  1.502988e+07\n",
       "28             10.3  122391.0      123126.812110   -735.812110  5.414195e+05\n",
       "29             10.5  121872.0      125016.804574  -3144.804574  9.889796e+06"
      ]
     },
     "execution_count": 37,
     "metadata": {},
     "output_type": "execute_result"
    }
   ],
   "source": [
    "df['Error_sq']=(df['Error'])**2\n",
    "df"
   ]
  },
  {
   "cell_type": "code",
   "execution_count": 38,
   "id": "8b96b1cd",
   "metadata": {},
   "outputs": [
    {
     "data": {
      "text/plain": [
       "31270951.722280964"
      ]
     },
     "execution_count": 38,
     "metadata": {},
     "output_type": "execute_result"
    }
   ],
   "source": [
    "Mean_Squared_Error=df['Error_sq'].mean()\n",
    "Mean_Squared_Error"
   ]
  },
  {
   "cell_type": "code",
   "execution_count": 39,
   "id": "7e4a12fe",
   "metadata": {},
   "outputs": [
    {
     "data": {
      "text/html": [
       "<table class=\"simpletable\">\n",
       "<caption>OLS Regression Results</caption>\n",
       "<tr>\n",
       "  <th>Dep. Variable:</th>         <td>Salary</td>      <th>  R-squared:         </th> <td>   0.957</td>\n",
       "</tr>\n",
       "<tr>\n",
       "  <th>Model:</th>                   <td>OLS</td>       <th>  Adj. R-squared:    </th> <td>   0.955</td>\n",
       "</tr>\n",
       "<tr>\n",
       "  <th>Method:</th>             <td>Least Squares</td>  <th>  F-statistic:       </th> <td>   622.5</td>\n",
       "</tr>\n",
       "<tr>\n",
       "  <th>Date:</th>             <td>Mon, 13 Jun 2022</td> <th>  Prob (F-statistic):</th> <td>1.14e-20</td>\n",
       "</tr>\n",
       "<tr>\n",
       "  <th>Time:</th>                 <td>22:53:39</td>     <th>  Log-Likelihood:    </th> <td> -301.44</td>\n",
       "</tr>\n",
       "<tr>\n",
       "  <th>No. Observations:</th>      <td>    30</td>      <th>  AIC:               </th> <td>   606.9</td>\n",
       "</tr>\n",
       "<tr>\n",
       "  <th>Df Residuals:</th>          <td>    28</td>      <th>  BIC:               </th> <td>   609.7</td>\n",
       "</tr>\n",
       "<tr>\n",
       "  <th>Df Model:</th>              <td>     1</td>      <th>                     </th>     <td> </td>   \n",
       "</tr>\n",
       "<tr>\n",
       "  <th>Covariance Type:</th>      <td>nonrobust</td>    <th>                     </th>     <td> </td>   \n",
       "</tr>\n",
       "</table>\n",
       "<table class=\"simpletable\">\n",
       "<tr>\n",
       "         <td></td>            <th>coef</th>     <th>std err</th>      <th>t</th>      <th>P>|t|</th>  <th>[0.025</th>    <th>0.975]</th>  \n",
       "</tr>\n",
       "<tr>\n",
       "  <th>Intercept</th>       <td> 2.579e+04</td> <td> 2273.053</td> <td>   11.347</td> <td> 0.000</td> <td> 2.11e+04</td> <td> 3.04e+04</td>\n",
       "</tr>\n",
       "<tr>\n",
       "  <th>YearsExperience</th> <td> 9449.9623</td> <td>  378.755</td> <td>   24.950</td> <td> 0.000</td> <td> 8674.119</td> <td> 1.02e+04</td>\n",
       "</tr>\n",
       "</table>\n",
       "<table class=\"simpletable\">\n",
       "<tr>\n",
       "  <th>Omnibus:</th>       <td> 2.140</td> <th>  Durbin-Watson:     </th> <td>   1.648</td>\n",
       "</tr>\n",
       "<tr>\n",
       "  <th>Prob(Omnibus):</th> <td> 0.343</td> <th>  Jarque-Bera (JB):  </th> <td>   1.569</td>\n",
       "</tr>\n",
       "<tr>\n",
       "  <th>Skew:</th>          <td> 0.363</td> <th>  Prob(JB):          </th> <td>   0.456</td>\n",
       "</tr>\n",
       "<tr>\n",
       "  <th>Kurtosis:</th>      <td> 2.147</td> <th>  Cond. No.          </th> <td>    13.2</td>\n",
       "</tr>\n",
       "</table><br/><br/>Notes:<br/>[1] Standard Errors assume that the covariance matrix of the errors is correctly specified."
      ],
      "text/plain": [
       "<class 'statsmodels.iolib.summary.Summary'>\n",
       "\"\"\"\n",
       "                            OLS Regression Results                            \n",
       "==============================================================================\n",
       "Dep. Variable:                 Salary   R-squared:                       0.957\n",
       "Model:                            OLS   Adj. R-squared:                  0.955\n",
       "Method:                 Least Squares   F-statistic:                     622.5\n",
       "Date:                Mon, 13 Jun 2022   Prob (F-statistic):           1.14e-20\n",
       "Time:                        22:53:39   Log-Likelihood:                -301.44\n",
       "No. Observations:                  30   AIC:                             606.9\n",
       "Df Residuals:                      28   BIC:                             609.7\n",
       "Df Model:                           1                                         \n",
       "Covariance Type:            nonrobust                                         \n",
       "===================================================================================\n",
       "                      coef    std err          t      P>|t|      [0.025      0.975]\n",
       "-----------------------------------------------------------------------------------\n",
       "Intercept        2.579e+04   2273.053     11.347      0.000    2.11e+04    3.04e+04\n",
       "YearsExperience  9449.9623    378.755     24.950      0.000    8674.119    1.02e+04\n",
       "==============================================================================\n",
       "Omnibus:                        2.140   Durbin-Watson:                   1.648\n",
       "Prob(Omnibus):                  0.343   Jarque-Bera (JB):                1.569\n",
       "Skew:                           0.363   Prob(JB):                        0.456\n",
       "Kurtosis:                       2.147   Cond. No.                         13.2\n",
       "==============================================================================\n",
       "\n",
       "Notes:\n",
       "[1] Standard Errors assume that the covariance matrix of the errors is correctly specified.\n",
       "\"\"\""
      ]
     },
     "execution_count": 39,
     "metadata": {},
     "output_type": "execute_result"
    }
   ],
   "source": [
    "model.summary()"
   ]
  },
  {
   "cell_type": "code",
   "execution_count": 40,
   "id": "cbdbed0c",
   "metadata": {},
   "outputs": [],
   "source": [
    "import numpy as np"
   ]
  },
  {
   "cell_type": "code",
   "execution_count": 42,
   "id": "da10a132",
   "metadata": {},
   "outputs": [
    {
     "data": {
      "text/html": [
       "<div>\n",
       "<style scoped>\n",
       "    .dataframe tbody tr th:only-of-type {\n",
       "        vertical-align: middle;\n",
       "    }\n",
       "\n",
       "    .dataframe tbody tr th {\n",
       "        vertical-align: top;\n",
       "    }\n",
       "\n",
       "    .dataframe thead th {\n",
       "        text-align: right;\n",
       "    }\n",
       "</style>\n",
       "<table border=\"1\" class=\"dataframe\">\n",
       "  <thead>\n",
       "    <tr style=\"text-align: right;\">\n",
       "      <th></th>\n",
       "      <th>YearsExperience</th>\n",
       "      <th>Salary</th>\n",
       "    </tr>\n",
       "  </thead>\n",
       "  <tbody>\n",
       "    <tr>\n",
       "      <th>0</th>\n",
       "      <td>0.095310</td>\n",
       "      <td>10.580073</td>\n",
       "    </tr>\n",
       "    <tr>\n",
       "      <th>1</th>\n",
       "      <td>0.262364</td>\n",
       "      <td>10.740843</td>\n",
       "    </tr>\n",
       "    <tr>\n",
       "      <th>2</th>\n",
       "      <td>0.405465</td>\n",
       "      <td>10.538237</td>\n",
       "    </tr>\n",
       "    <tr>\n",
       "      <th>3</th>\n",
       "      <td>0.693147</td>\n",
       "      <td>10.681091</td>\n",
       "    </tr>\n",
       "    <tr>\n",
       "      <th>4</th>\n",
       "      <td>0.788457</td>\n",
       "      <td>10.593906</td>\n",
       "    </tr>\n",
       "  </tbody>\n",
       "</table>\n",
       "</div>"
      ],
      "text/plain": [
       "   YearsExperience     Salary\n",
       "0         0.095310  10.580073\n",
       "1         0.262364  10.740843\n",
       "2         0.405465  10.538237\n",
       "3         0.693147  10.681091\n",
       "4         0.788457  10.593906"
      ]
     },
     "execution_count": 42,
     "metadata": {},
     "output_type": "execute_result"
    }
   ],
   "source": [
    "data_log=np.log(data1)\n",
    "data_log.head()"
   ]
  },
  {
   "cell_type": "code",
   "execution_count": 43,
   "id": "43f2b807",
   "metadata": {},
   "outputs": [
    {
     "data": {
      "image/png": "[encoded data removed]",
      "text/plain": [
       "<Figure size 432x288 with 1 Axes>"
      ]
     },
     "metadata": {
      "needs_background": "light"
     },
     "output_type": "display_data"
    }
   ],
   "source": [
    "sns.distplot(data_log['YearsExperience']);"
   ]
  },
  {
   "cell_type": "code",
   "execution_count": 44,
   "id": "eae83645",
   "metadata": {},
   "outputs": [
    {
     "data": {
      "image/png": "[encoded data removed]",
      "text/plain": [
       "<Figure size 432x288 with 1 Axes>"
      ]
     },
     "metadata": {
      "needs_background": "light"
     },
     "output_type": "display_data"
    }
   ],
   "source": [
    "sns.distplot(data_log['Salary']);"
   ]
  },
  {
   "cell_type": "code",
   "execution_count": 45,
   "id": "a17dbf8e",
   "metadata": {},
   "outputs": [
    {
     "name": "stdout",
     "output_type": "stream",
     "text": [
      "<class 'pandas.core.frame.DataFrame'>\n",
      "RangeIndex: 30 entries, 0 to 29\n",
      "Data columns (total 2 columns):\n",
      " #   Column           Non-Null Count  Dtype  \n",
      "---  ------           --------------  -----  \n",
      " 0   YearsExperience  30 non-null     float64\n",
      " 1   Salary           30 non-null     float64\n",
      "dtypes: float64(2)\n",
      "memory usage: 608.0 bytes\n"
     ]
    }
   ],
   "source": [
    "data_log.info()"
   ]
  },
  {
   "cell_type": "code",
   "execution_count": 46,
   "id": "319dbace",
   "metadata": {},
   "outputs": [
    {
     "data": {
      "text/plain": [
       "YearsExperience    0\n",
       "Salary             0\n",
       "dtype: int64"
      ]
     },
     "execution_count": 46,
     "metadata": {},
     "output_type": "execute_result"
    }
   ],
   "source": [
    "data_log.isnull().sum()"
   ]
  },
  {
   "cell_type": "code",
   "execution_count": 47,
   "id": "8086b02d",
   "metadata": {},
   "outputs": [
    {
     "data": {
      "text/plain": [
       "YearsExperience    float64\n",
       "Salary             float64\n",
       "dtype: object"
      ]
     },
     "execution_count": 47,
     "metadata": {},
     "output_type": "execute_result"
    }
   ],
   "source": [
    "data_log.dtypes"
   ]
  },
  {
   "cell_type": "code",
   "execution_count": 49,
   "id": "d36269e7",
   "metadata": {},
   "outputs": [
    {
     "data": {
      "text/plain": [
       "{'whiskers': [<matplotlib.lines.Line2D at 0x16d5b957c40>,\n",
       "  <matplotlib.lines.Line2D at 0x16d5b957fd0>],\n",
       " 'caps': [<matplotlib.lines.Line2D at 0x16d5b96a3a0>,\n",
       "  <matplotlib.lines.Line2D at 0x16d5b96a730>],\n",
       " 'boxes': [<matplotlib.lines.Line2D at 0x16d5b9578b0>],\n",
       " 'medians': [<matplotlib.lines.Line2D at 0x16d5b96aac0>],\n",
       " 'fliers': [<matplotlib.lines.Line2D at 0x16d5b96ae50>],\n",
       " 'means': []}"
      ]
     },
     "execution_count": 49,
     "metadata": {},
     "output_type": "execute_result"
    },
    {
     "data": {
      "image/png": "[encoded data removed]",
      "text/plain": [
       "<Figure size 432x288 with 1 Axes>"
      ]
     },
     "metadata": {
      "needs_background": "light"
     },
     "output_type": "display_data"
    }
   ],
   "source": [
    "plt.boxplot(df['YearsExperience'])\n"
   ]
  },
  {
   "cell_type": "code",
   "execution_count": 50,
   "id": "4353ceaa",
   "metadata": {},
   "outputs": [
    {
     "data": {
      "image/png": "[encoded data removed]",
      "text/plain": [
       "<Figure size 432x288 with 1 Axes>"
      ]
     },
     "metadata": {
      "needs_background": "light"
     },
     "output_type": "display_data"
    }
   ],
   "source": [
    "plt.boxplot(df['Salary']);"
   ]
  },
  {
   "cell_type": "code",
   "execution_count": 52,
   "id": "9d669fb0",
   "metadata": {},
   "outputs": [
    {
     "data": {
      "text/html": [
       "<div>\n",
       "<style scoped>\n",
       "    .dataframe tbody tr th:only-of-type {\n",
       "        vertical-align: middle;\n",
       "    }\n",
       "\n",
       "    .dataframe tbody tr th {\n",
       "        vertical-align: top;\n",
       "    }\n",
       "\n",
       "    .dataframe thead th {\n",
       "        text-align: right;\n",
       "    }\n",
       "</style>\n",
       "<table border=\"1\" class=\"dataframe\">\n",
       "  <thead>\n",
       "    <tr style=\"text-align: right;\">\n",
       "      <th></th>\n",
       "      <th>YearsExperience</th>\n",
       "      <th>Salary</th>\n",
       "    </tr>\n",
       "  </thead>\n",
       "  <tbody>\n",
       "    <tr>\n",
       "      <th>YearsExperience</th>\n",
       "      <td>1.000000</td>\n",
       "      <td>0.951428</td>\n",
       "    </tr>\n",
       "    <tr>\n",
       "      <th>Salary</th>\n",
       "      <td>0.951428</td>\n",
       "      <td>1.000000</td>\n",
       "    </tr>\n",
       "  </tbody>\n",
       "</table>\n",
       "</div>"
      ],
      "text/plain": [
       "                 YearsExperience    Salary\n",
       "YearsExperience         1.000000  0.951428\n",
       "Salary                  0.951428  1.000000"
      ]
     },
     "execution_count": 52,
     "metadata": {},
     "output_type": "execute_result"
    }
   ],
   "source": [
    "data_log.corr()"
   ]
  },
  {
   "cell_type": "code",
   "execution_count": 53,
   "id": "aa35c4b3",
   "metadata": {},
   "outputs": [],
   "source": [
    "model_2=smf.ols(\"Salary~YearsExperience\", data=data_log).fit()"
   ]
  },
  {
   "cell_type": "code",
   "execution_count": 54,
   "id": "c1c45c16",
   "metadata": {},
   "outputs": [
    {
     "data": {
      "image/png": "[encoded data removed]",
      "text/plain": [
       "<Figure size 432x288 with 1 Axes>"
      ]
     },
     "metadata": {
      "needs_background": "light"
     },
     "output_type": "display_data"
    }
   ],
   "source": [
    "sns.regplot(x='YearsExperience',y='Salary', data=data_log);"
   ]
  },
  {
   "cell_type": "code",
   "execution_count": 55,
   "id": "1f8d1e14",
   "metadata": {},
   "outputs": [
    {
     "data": {
      "text/plain": [
       "Intercept          9.073132e-45\n",
       "YearsExperience    7.395278e-16\n",
       "dtype: float64"
      ]
     },
     "execution_count": 55,
     "metadata": {},
     "output_type": "execute_result"
    }
   ],
   "source": [
    "model_2.pvalues"
   ]
  },
  {
   "cell_type": "code",
   "execution_count": 56,
   "id": "18e39f00",
   "metadata": {},
   "outputs": [
    {
     "data": {
      "text/plain": [
       "Intercept          10.328043\n",
       "YearsExperience     0.562089\n",
       "dtype: float64"
      ]
     },
     "execution_count": 56,
     "metadata": {},
     "output_type": "execute_result"
    }
   ],
   "source": [
    "model_2.params"
   ]
  },
  {
   "cell_type": "code",
   "execution_count": 59,
   "id": "b3868dd0",
   "metadata": {},
   "outputs": [
    {
     "data": {
      "text/plain": [
       "0.9052150725817149"
      ]
     },
     "execution_count": 59,
     "metadata": {},
     "output_type": "execute_result"
    }
   ],
   "source": [
    "model_2.rsquared"
   ]
  },
  {
   "cell_type": "code",
   "execution_count": 60,
   "id": "d3ed207d",
   "metadata": {},
   "outputs": [
    {
     "data": {
      "text/plain": [
       "0     0.198457\n",
       "1     0.265328\n",
       "2    -0.017713\n",
       "3    -0.036563\n",
       "4    -0.177320\n",
       "5     0.018001\n",
       "6     0.059036\n",
       "7    -0.076891\n",
       "8     0.091730\n",
       "9    -0.109326\n",
       "10   -0.038689\n",
       "11   -0.177842\n",
       "12   -0.157212\n",
       "13   -0.168917\n",
       "14   -0.153021\n",
       "15   -0.094984\n",
       "16   -0.145972\n",
       "17    0.062213\n",
       "18   -0.019048\n",
       "19    0.115240\n",
       "20    0.021168\n",
       "21    0.065714\n",
       "22    0.036058\n",
       "23    0.131550\n",
       "24    0.059027\n",
       "25    0.004165\n",
       "26    0.076195\n",
       "27    0.032553\n",
       "28    0.076061\n",
       "29    0.061002\n",
       "dtype: float64"
      ]
     },
     "execution_count": 60,
     "metadata": {},
     "output_type": "execute_result"
    }
   ],
   "source": [
    "model_2.resid"
   ]
  },
  {
   "cell_type": "code",
   "execution_count": 61,
   "id": "ab2a9051",
   "metadata": {},
   "outputs": [
    {
     "data": {
      "text/plain": [
       "0     10.381616\n",
       "1     10.475515\n",
       "2     10.555951\n",
       "3     10.717653\n",
       "4     10.771226\n",
       "5     10.926505\n",
       "6     10.945561\n",
       "7     10.981837\n",
       "8     10.981837\n",
       "9     11.063442\n",
       "10    11.093033\n",
       "11    11.107264\n",
       "12    11.107264\n",
       "13    11.121143\n",
       "14    11.173468\n",
       "15    11.221335\n",
       "16    11.243821\n",
       "17    11.265443\n",
       "18    11.325724\n",
       "19    11.335171\n",
       "20    11.405524\n",
       "21    11.429791\n",
       "22    11.489804\n",
       "23    11.510753\n",
       "24    11.544023\n",
       "25    11.563079\n",
       "26    11.593469\n",
       "27    11.599355\n",
       "28    11.638915\n",
       "29    11.649725\n",
       "dtype: float64"
      ]
     },
     "execution_count": 61,
     "metadata": {},
     "output_type": "execute_result"
    }
   ],
   "source": [
    "model_2.fittedvalues"
   ]
  },
  {
   "cell_type": "code",
   "execution_count": 62,
   "id": "ab0ee815",
   "metadata": {},
   "outputs": [
    {
     "data": {
      "text/html": [
       "<div>\n",
       "<style scoped>\n",
       "    .dataframe tbody tr th:only-of-type {\n",
       "        vertical-align: middle;\n",
       "    }\n",
       "\n",
       "    .dataframe tbody tr th {\n",
       "        vertical-align: top;\n",
       "    }\n",
       "\n",
       "    .dataframe thead th {\n",
       "        text-align: right;\n",
       "    }\n",
       "</style>\n",
       "<table border=\"1\" class=\"dataframe\">\n",
       "  <thead>\n",
       "    <tr style=\"text-align: right;\">\n",
       "      <th></th>\n",
       "      <th>YearsExperience</th>\n",
       "      <th>Salary</th>\n",
       "      <th>Predicted values</th>\n",
       "      <th>Error</th>\n",
       "    </tr>\n",
       "  </thead>\n",
       "  <tbody>\n",
       "    <tr>\n",
       "      <th>0</th>\n",
       "      <td>0.095310</td>\n",
       "      <td>10.580073</td>\n",
       "      <td>10.381616</td>\n",
       "      <td>0.198457</td>\n",
       "    </tr>\n",
       "    <tr>\n",
       "      <th>1</th>\n",
       "      <td>0.262364</td>\n",
       "      <td>10.740843</td>\n",
       "      <td>10.475515</td>\n",
       "      <td>0.265328</td>\n",
       "    </tr>\n",
       "    <tr>\n",
       "      <th>2</th>\n",
       "      <td>0.405465</td>\n",
       "      <td>10.538237</td>\n",
       "      <td>10.555951</td>\n",
       "      <td>-0.017713</td>\n",
       "    </tr>\n",
       "    <tr>\n",
       "      <th>3</th>\n",
       "      <td>0.693147</td>\n",
       "      <td>10.681091</td>\n",
       "      <td>10.717653</td>\n",
       "      <td>-0.036563</td>\n",
       "    </tr>\n",
       "    <tr>\n",
       "      <th>4</th>\n",
       "      <td>0.788457</td>\n",
       "      <td>10.593906</td>\n",
       "      <td>10.771226</td>\n",
       "      <td>-0.177320</td>\n",
       "    </tr>\n",
       "    <tr>\n",
       "      <th>5</th>\n",
       "      <td>1.064711</td>\n",
       "      <td>10.944506</td>\n",
       "      <td>10.926505</td>\n",
       "      <td>0.018001</td>\n",
       "    </tr>\n",
       "    <tr>\n",
       "      <th>6</th>\n",
       "      <td>1.098612</td>\n",
       "      <td>11.004597</td>\n",
       "      <td>10.945561</td>\n",
       "      <td>0.059036</td>\n",
       "    </tr>\n",
       "    <tr>\n",
       "      <th>7</th>\n",
       "      <td>1.163151</td>\n",
       "      <td>10.904946</td>\n",
       "      <td>10.981837</td>\n",
       "      <td>-0.076891</td>\n",
       "    </tr>\n",
       "    <tr>\n",
       "      <th>8</th>\n",
       "      <td>1.163151</td>\n",
       "      <td>11.073567</td>\n",
       "      <td>10.981837</td>\n",
       "      <td>0.091730</td>\n",
       "    </tr>\n",
       "    <tr>\n",
       "      <th>9</th>\n",
       "      <td>1.308333</td>\n",
       "      <td>10.954117</td>\n",
       "      <td>11.063442</td>\n",
       "      <td>-0.109326</td>\n",
       "    </tr>\n",
       "    <tr>\n",
       "      <th>10</th>\n",
       "      <td>1.360977</td>\n",
       "      <td>11.054344</td>\n",
       "      <td>11.093033</td>\n",
       "      <td>-0.038689</td>\n",
       "    </tr>\n",
       "    <tr>\n",
       "      <th>11</th>\n",
       "      <td>1.386294</td>\n",
       "      <td>10.929422</td>\n",
       "      <td>11.107264</td>\n",
       "      <td>-0.177842</td>\n",
       "    </tr>\n",
       "    <tr>\n",
       "      <th>12</th>\n",
       "      <td>1.386294</td>\n",
       "      <td>10.950052</td>\n",
       "      <td>11.107264</td>\n",
       "      <td>-0.157212</td>\n",
       "    </tr>\n",
       "    <tr>\n",
       "      <th>13</th>\n",
       "      <td>1.410987</td>\n",
       "      <td>10.952227</td>\n",
       "      <td>11.121143</td>\n",
       "      <td>-0.168917</td>\n",
       "    </tr>\n",
       "    <tr>\n",
       "      <th>14</th>\n",
       "      <td>1.504077</td>\n",
       "      <td>11.020447</td>\n",
       "      <td>11.173468</td>\n",
       "      <td>-0.153021</td>\n",
       "    </tr>\n",
       "    <tr>\n",
       "      <th>15</th>\n",
       "      <td>1.589235</td>\n",
       "      <td>11.126351</td>\n",
       "      <td>11.221335</td>\n",
       "      <td>-0.094984</td>\n",
       "    </tr>\n",
       "    <tr>\n",
       "      <th>16</th>\n",
       "      <td>1.629241</td>\n",
       "      <td>11.097849</td>\n",
       "      <td>11.243821</td>\n",
       "      <td>-0.145972</td>\n",
       "    </tr>\n",
       "    <tr>\n",
       "      <th>17</th>\n",
       "      <td>1.667707</td>\n",
       "      <td>11.327656</td>\n",
       "      <td>11.265443</td>\n",
       "      <td>0.062213</td>\n",
       "    </tr>\n",
       "    <tr>\n",
       "      <th>18</th>\n",
       "      <td>1.774952</td>\n",
       "      <td>11.306676</td>\n",
       "      <td>11.325724</td>\n",
       "      <td>-0.019048</td>\n",
       "    </tr>\n",
       "    <tr>\n",
       "      <th>19</th>\n",
       "      <td>1.791759</td>\n",
       "      <td>11.450412</td>\n",
       "      <td>11.335171</td>\n",
       "      <td>0.115240</td>\n",
       "    </tr>\n",
       "    <tr>\n",
       "      <th>20</th>\n",
       "      <td>1.916923</td>\n",
       "      <td>11.426692</td>\n",
       "      <td>11.405524</td>\n",
       "      <td>0.021168</td>\n",
       "    </tr>\n",
       "    <tr>\n",
       "      <th>21</th>\n",
       "      <td>1.960095</td>\n",
       "      <td>11.495505</td>\n",
       "      <td>11.429791</td>\n",
       "      <td>0.065714</td>\n",
       "    </tr>\n",
       "    <tr>\n",
       "      <th>22</th>\n",
       "      <td>2.066863</td>\n",
       "      <td>11.525861</td>\n",
       "      <td>11.489804</td>\n",
       "      <td>0.036058</td>\n",
       "    </tr>\n",
       "    <tr>\n",
       "      <th>23</th>\n",
       "      <td>2.104134</td>\n",
       "      <td>11.642303</td>\n",
       "      <td>11.510753</td>\n",
       "      <td>0.131550</td>\n",
       "    </tr>\n",
       "    <tr>\n",
       "      <th>24</th>\n",
       "      <td>2.163323</td>\n",
       "      <td>11.603049</td>\n",
       "      <td>11.544023</td>\n",
       "      <td>0.059027</td>\n",
       "    </tr>\n",
       "    <tr>\n",
       "      <th>25</th>\n",
       "      <td>2.197225</td>\n",
       "      <td>11.567243</td>\n",
       "      <td>11.563079</td>\n",
       "      <td>0.004165</td>\n",
       "    </tr>\n",
       "    <tr>\n",
       "      <th>26</th>\n",
       "      <td>2.251292</td>\n",
       "      <td>11.669664</td>\n",
       "      <td>11.593469</td>\n",
       "      <td>0.076195</td>\n",
       "    </tr>\n",
       "    <tr>\n",
       "      <th>27</th>\n",
       "      <td>2.261763</td>\n",
       "      <td>11.631908</td>\n",
       "      <td>11.599355</td>\n",
       "      <td>0.032553</td>\n",
       "    </tr>\n",
       "    <tr>\n",
       "      <th>28</th>\n",
       "      <td>2.332144</td>\n",
       "      <td>11.714976</td>\n",
       "      <td>11.638915</td>\n",
       "      <td>0.076061</td>\n",
       "    </tr>\n",
       "    <tr>\n",
       "      <th>29</th>\n",
       "      <td>2.351375</td>\n",
       "      <td>11.710727</td>\n",
       "      <td>11.649725</td>\n",
       "      <td>0.061002</td>\n",
       "    </tr>\n",
       "  </tbody>\n",
       "</table>\n",
       "</div>"
      ],
      "text/plain": [
       "    YearsExperience     Salary  Predicted values     Error\n",
       "0          0.095310  10.580073         10.381616  0.198457\n",
       "1          0.262364  10.740843         10.475515  0.265328\n",
       "2          0.405465  10.538237         10.555951 -0.017713\n",
       "3          0.693147  10.681091         10.717653 -0.036563\n",
       "4          0.788457  10.593906         10.771226 -0.177320\n",
       "5          1.064711  10.944506         10.926505  0.018001\n",
       "6          1.098612  11.004597         10.945561  0.059036\n",
       "7          1.163151  10.904946         10.981837 -0.076891\n",
       "8          1.163151  11.073567         10.981837  0.091730\n",
       "9          1.308333  10.954117         11.063442 -0.109326\n",
       "10         1.360977  11.054344         11.093033 -0.038689\n",
       "11         1.386294  10.929422         11.107264 -0.177842\n",
       "12         1.386294  10.950052         11.107264 -0.157212\n",
       "13         1.410987  10.952227         11.121143 -0.168917\n",
       "14         1.504077  11.020447         11.173468 -0.153021\n",
       "15         1.589235  11.126351         11.221335 -0.094984\n",
       "16         1.629241  11.097849         11.243821 -0.145972\n",
       "17         1.667707  11.327656         11.265443  0.062213\n",
       "18         1.774952  11.306676         11.325724 -0.019048\n",
       "19         1.791759  11.450412         11.335171  0.115240\n",
       "20         1.916923  11.426692         11.405524  0.021168\n",
       "21         1.960095  11.495505         11.429791  0.065714\n",
       "22         2.066863  11.525861         11.489804  0.036058\n",
       "23         2.104134  11.642303         11.510753  0.131550\n",
       "24         2.163323  11.603049         11.544023  0.059027\n",
       "25         2.197225  11.567243         11.563079  0.004165\n",
       "26         2.251292  11.669664         11.593469  0.076195\n",
       "27         2.261763  11.631908         11.599355  0.032553\n",
       "28         2.332144  11.714976         11.638915  0.076061\n",
       "29         2.351375  11.710727         11.649725  0.061002"
      ]
     },
     "execution_count": 62,
     "metadata": {},
     "output_type": "execute_result"
    }
   ],
   "source": [
    "data_log['Predicted values']=model_2.fittedvalues\n",
    "data_log['Error']=model_2.resid\n",
    "data_log"
   ]
  },
  {
   "cell_type": "code",
   "execution_count": 65,
   "id": "26e82ed1",
   "metadata": {},
   "outputs": [
    {
     "data": {
      "text/html": [
       "<div>\n",
       "<style scoped>\n",
       "    .dataframe tbody tr th:only-of-type {\n",
       "        vertical-align: middle;\n",
       "    }\n",
       "\n",
       "    .dataframe tbody tr th {\n",
       "        vertical-align: top;\n",
       "    }\n",
       "\n",
       "    .dataframe thead th {\n",
       "        text-align: right;\n",
       "    }\n",
       "</style>\n",
       "<table border=\"1\" class=\"dataframe\">\n",
       "  <thead>\n",
       "    <tr style=\"text-align: right;\">\n",
       "      <th></th>\n",
       "      <th>YearsExperience</th>\n",
       "      <th>Salary</th>\n",
       "      <th>Predicted values</th>\n",
       "      <th>Error</th>\n",
       "      <th>Error_sq</th>\n",
       "    </tr>\n",
       "  </thead>\n",
       "  <tbody>\n",
       "    <tr>\n",
       "      <th>0</th>\n",
       "      <td>0.095310</td>\n",
       "      <td>10.580073</td>\n",
       "      <td>10.381616</td>\n",
       "      <td>0.198457</td>\n",
       "      <td>0.039385</td>\n",
       "    </tr>\n",
       "    <tr>\n",
       "      <th>1</th>\n",
       "      <td>0.262364</td>\n",
       "      <td>10.740843</td>\n",
       "      <td>10.475515</td>\n",
       "      <td>0.265328</td>\n",
       "      <td>0.070399</td>\n",
       "    </tr>\n",
       "    <tr>\n",
       "      <th>2</th>\n",
       "      <td>0.405465</td>\n",
       "      <td>10.538237</td>\n",
       "      <td>10.555951</td>\n",
       "      <td>-0.017713</td>\n",
       "      <td>0.000314</td>\n",
       "    </tr>\n",
       "    <tr>\n",
       "      <th>3</th>\n",
       "      <td>0.693147</td>\n",
       "      <td>10.681091</td>\n",
       "      <td>10.717653</td>\n",
       "      <td>-0.036563</td>\n",
       "      <td>0.001337</td>\n",
       "    </tr>\n",
       "    <tr>\n",
       "      <th>4</th>\n",
       "      <td>0.788457</td>\n",
       "      <td>10.593906</td>\n",
       "      <td>10.771226</td>\n",
       "      <td>-0.177320</td>\n",
       "      <td>0.031442</td>\n",
       "    </tr>\n",
       "    <tr>\n",
       "      <th>5</th>\n",
       "      <td>1.064711</td>\n",
       "      <td>10.944506</td>\n",
       "      <td>10.926505</td>\n",
       "      <td>0.018001</td>\n",
       "      <td>0.000324</td>\n",
       "    </tr>\n",
       "    <tr>\n",
       "      <th>6</th>\n",
       "      <td>1.098612</td>\n",
       "      <td>11.004597</td>\n",
       "      <td>10.945561</td>\n",
       "      <td>0.059036</td>\n",
       "      <td>0.003485</td>\n",
       "    </tr>\n",
       "    <tr>\n",
       "      <th>7</th>\n",
       "      <td>1.163151</td>\n",
       "      <td>10.904946</td>\n",
       "      <td>10.981837</td>\n",
       "      <td>-0.076891</td>\n",
       "      <td>0.005912</td>\n",
       "    </tr>\n",
       "    <tr>\n",
       "      <th>8</th>\n",
       "      <td>1.163151</td>\n",
       "      <td>11.073567</td>\n",
       "      <td>10.981837</td>\n",
       "      <td>0.091730</td>\n",
       "      <td>0.008414</td>\n",
       "    </tr>\n",
       "    <tr>\n",
       "      <th>9</th>\n",
       "      <td>1.308333</td>\n",
       "      <td>10.954117</td>\n",
       "      <td>11.063442</td>\n",
       "      <td>-0.109326</td>\n",
       "      <td>0.011952</td>\n",
       "    </tr>\n",
       "    <tr>\n",
       "      <th>10</th>\n",
       "      <td>1.360977</td>\n",
       "      <td>11.054344</td>\n",
       "      <td>11.093033</td>\n",
       "      <td>-0.038689</td>\n",
       "      <td>0.001497</td>\n",
       "    </tr>\n",
       "    <tr>\n",
       "      <th>11</th>\n",
       "      <td>1.386294</td>\n",
       "      <td>10.929422</td>\n",
       "      <td>11.107264</td>\n",
       "      <td>-0.177842</td>\n",
       "      <td>0.031628</td>\n",
       "    </tr>\n",
       "    <tr>\n",
       "      <th>12</th>\n",
       "      <td>1.386294</td>\n",
       "      <td>10.950052</td>\n",
       "      <td>11.107264</td>\n",
       "      <td>-0.157212</td>\n",
       "      <td>0.024716</td>\n",
       "    </tr>\n",
       "    <tr>\n",
       "      <th>13</th>\n",
       "      <td>1.410987</td>\n",
       "      <td>10.952227</td>\n",
       "      <td>11.121143</td>\n",
       "      <td>-0.168917</td>\n",
       "      <td>0.028533</td>\n",
       "    </tr>\n",
       "    <tr>\n",
       "      <th>14</th>\n",
       "      <td>1.504077</td>\n",
       "      <td>11.020447</td>\n",
       "      <td>11.173468</td>\n",
       "      <td>-0.153021</td>\n",
       "      <td>0.023415</td>\n",
       "    </tr>\n",
       "    <tr>\n",
       "      <th>15</th>\n",
       "      <td>1.589235</td>\n",
       "      <td>11.126351</td>\n",
       "      <td>11.221335</td>\n",
       "      <td>-0.094984</td>\n",
       "      <td>0.009022</td>\n",
       "    </tr>\n",
       "    <tr>\n",
       "      <th>16</th>\n",
       "      <td>1.629241</td>\n",
       "      <td>11.097849</td>\n",
       "      <td>11.243821</td>\n",
       "      <td>-0.145972</td>\n",
       "      <td>0.021308</td>\n",
       "    </tr>\n",
       "    <tr>\n",
       "      <th>17</th>\n",
       "      <td>1.667707</td>\n",
       "      <td>11.327656</td>\n",
       "      <td>11.265443</td>\n",
       "      <td>0.062213</td>\n",
       "      <td>0.003870</td>\n",
       "    </tr>\n",
       "    <tr>\n",
       "      <th>18</th>\n",
       "      <td>1.774952</td>\n",
       "      <td>11.306676</td>\n",
       "      <td>11.325724</td>\n",
       "      <td>-0.019048</td>\n",
       "      <td>0.000363</td>\n",
       "    </tr>\n",
       "    <tr>\n",
       "      <th>19</th>\n",
       "      <td>1.791759</td>\n",
       "      <td>11.450412</td>\n",
       "      <td>11.335171</td>\n",
       "      <td>0.115240</td>\n",
       "      <td>0.013280</td>\n",
       "    </tr>\n",
       "    <tr>\n",
       "      <th>20</th>\n",
       "      <td>1.916923</td>\n",
       "      <td>11.426692</td>\n",
       "      <td>11.405524</td>\n",
       "      <td>0.021168</td>\n",
       "      <td>0.000448</td>\n",
       "    </tr>\n",
       "    <tr>\n",
       "      <th>21</th>\n",
       "      <td>1.960095</td>\n",
       "      <td>11.495505</td>\n",
       "      <td>11.429791</td>\n",
       "      <td>0.065714</td>\n",
       "      <td>0.004318</td>\n",
       "    </tr>\n",
       "    <tr>\n",
       "      <th>22</th>\n",
       "      <td>2.066863</td>\n",
       "      <td>11.525861</td>\n",
       "      <td>11.489804</td>\n",
       "      <td>0.036058</td>\n",
       "      <td>0.001300</td>\n",
       "    </tr>\n",
       "    <tr>\n",
       "      <th>23</th>\n",
       "      <td>2.104134</td>\n",
       "      <td>11.642303</td>\n",
       "      <td>11.510753</td>\n",
       "      <td>0.131550</td>\n",
       "      <td>0.017305</td>\n",
       "    </tr>\n",
       "    <tr>\n",
       "      <th>24</th>\n",
       "      <td>2.163323</td>\n",
       "      <td>11.603049</td>\n",
       "      <td>11.544023</td>\n",
       "      <td>0.059027</td>\n",
       "      <td>0.003484</td>\n",
       "    </tr>\n",
       "    <tr>\n",
       "      <th>25</th>\n",
       "      <td>2.197225</td>\n",
       "      <td>11.567243</td>\n",
       "      <td>11.563079</td>\n",
       "      <td>0.004165</td>\n",
       "      <td>0.000017</td>\n",
       "    </tr>\n",
       "    <tr>\n",
       "      <th>26</th>\n",
       "      <td>2.251292</td>\n",
       "      <td>11.669664</td>\n",
       "      <td>11.593469</td>\n",
       "      <td>0.076195</td>\n",
       "      <td>0.005806</td>\n",
       "    </tr>\n",
       "    <tr>\n",
       "      <th>27</th>\n",
       "      <td>2.261763</td>\n",
       "      <td>11.631908</td>\n",
       "      <td>11.599355</td>\n",
       "      <td>0.032553</td>\n",
       "      <td>0.001060</td>\n",
       "    </tr>\n",
       "    <tr>\n",
       "      <th>28</th>\n",
       "      <td>2.332144</td>\n",
       "      <td>11.714976</td>\n",
       "      <td>11.638915</td>\n",
       "      <td>0.076061</td>\n",
       "      <td>0.005785</td>\n",
       "    </tr>\n",
       "    <tr>\n",
       "      <th>29</th>\n",
       "      <td>2.351375</td>\n",
       "      <td>11.710727</td>\n",
       "      <td>11.649725</td>\n",
       "      <td>0.061002</td>\n",
       "      <td>0.003721</td>\n",
       "    </tr>\n",
       "  </tbody>\n",
       "</table>\n",
       "</div>"
      ],
      "text/plain": [
       "    YearsExperience     Salary  Predicted values     Error  Error_sq\n",
       "0          0.095310  10.580073         10.381616  0.198457  0.039385\n",
       "1          0.262364  10.740843         10.475515  0.265328  0.070399\n",
       "2          0.405465  10.538237         10.555951 -0.017713  0.000314\n",
       "3          0.693147  10.681091         10.717653 -0.036563  0.001337\n",
       "4          0.788457  10.593906         10.771226 -0.177320  0.031442\n",
       "5          1.064711  10.944506         10.926505  0.018001  0.000324\n",
       "6          1.098612  11.004597         10.945561  0.059036  0.003485\n",
       "7          1.163151  10.904946         10.981837 -0.076891  0.005912\n",
       "8          1.163151  11.073567         10.981837  0.091730  0.008414\n",
       "9          1.308333  10.954117         11.063442 -0.109326  0.011952\n",
       "10         1.360977  11.054344         11.093033 -0.038689  0.001497\n",
       "11         1.386294  10.929422         11.107264 -0.177842  0.031628\n",
       "12         1.386294  10.950052         11.107264 -0.157212  0.024716\n",
       "13         1.410987  10.952227         11.121143 -0.168917  0.028533\n",
       "14         1.504077  11.020447         11.173468 -0.153021  0.023415\n",
       "15         1.589235  11.126351         11.221335 -0.094984  0.009022\n",
       "16         1.629241  11.097849         11.243821 -0.145972  0.021308\n",
       "17         1.667707  11.327656         11.265443  0.062213  0.003870\n",
       "18         1.774952  11.306676         11.325724 -0.019048  0.000363\n",
       "19         1.791759  11.450412         11.335171  0.115240  0.013280\n",
       "20         1.916923  11.426692         11.405524  0.021168  0.000448\n",
       "21         1.960095  11.495505         11.429791  0.065714  0.004318\n",
       "22         2.066863  11.525861         11.489804  0.036058  0.001300\n",
       "23         2.104134  11.642303         11.510753  0.131550  0.017305\n",
       "24         2.163323  11.603049         11.544023  0.059027  0.003484\n",
       "25         2.197225  11.567243         11.563079  0.004165  0.000017\n",
       "26         2.251292  11.669664         11.593469  0.076195  0.005806\n",
       "27         2.261763  11.631908         11.599355  0.032553  0.001060\n",
       "28         2.332144  11.714976         11.638915  0.076061  0.005785\n",
       "29         2.351375  11.710727         11.649725  0.061002  0.003721"
      ]
     },
     "execution_count": 65,
     "metadata": {},
     "output_type": "execute_result"
    }
   ],
   "source": [
    "data_log['Error_sq']=data_log['Error']**2\n",
    "data_log"
   ]
  },
  {
   "cell_type": "code",
   "execution_count": 67,
   "id": "892069b1",
   "metadata": {},
   "outputs": [
    {
     "data": {
      "text/plain": [
       "0.01246141392037965"
      ]
     },
     "execution_count": 67,
     "metadata": {},
     "output_type": "execute_result"
    }
   ],
   "source": [
    "Mean_Squared_Error=data_log['Error_sq'].mean()\n",
    "Mean_Squared_Error"
   ]
  },
  {
   "cell_type": "code",
   "execution_count": 68,
   "id": "d3158da4",
   "metadata": {
    "scrolled": true
   },
   "outputs": [
    {
     "data": {
      "text/html": [
       "<table class=\"simpletable\">\n",
       "<caption>OLS Regression Results</caption>\n",
       "<tr>\n",
       "  <th>Dep. Variable:</th>         <td>Salary</td>      <th>  R-squared:         </th> <td>   0.905</td>\n",
       "</tr>\n",
       "<tr>\n",
       "  <th>Model:</th>                   <td>OLS</td>       <th>  Adj. R-squared:    </th> <td>   0.902</td>\n",
       "</tr>\n",
       "<tr>\n",
       "  <th>Method:</th>             <td>Least Squares</td>  <th>  F-statistic:       </th> <td>   267.4</td>\n",
       "</tr>\n",
       "<tr>\n",
       "  <th>Date:</th>             <td>Mon, 13 Jun 2022</td> <th>  Prob (F-statistic):</th> <td>7.40e-16</td>\n",
       "</tr>\n",
       "<tr>\n",
       "  <th>Time:</th>                 <td>23:11:50</td>     <th>  Log-Likelihood:    </th> <td>  23.209</td>\n",
       "</tr>\n",
       "<tr>\n",
       "  <th>No. Observations:</th>      <td>    30</td>      <th>  AIC:               </th> <td>  -42.42</td>\n",
       "</tr>\n",
       "<tr>\n",
       "  <th>Df Residuals:</th>          <td>    28</td>      <th>  BIC:               </th> <td>  -39.61</td>\n",
       "</tr>\n",
       "<tr>\n",
       "  <th>Df Model:</th>              <td>     1</td>      <th>                     </th>     <td> </td>   \n",
       "</tr>\n",
       "<tr>\n",
       "  <th>Covariance Type:</th>      <td>nonrobust</td>    <th>                     </th>     <td> </td>   \n",
       "</tr>\n",
       "</table>\n",
       "<table class=\"simpletable\">\n",
       "<tr>\n",
       "         <td></td>            <th>coef</th>     <th>std err</th>      <th>t</th>      <th>P>|t|</th>  <th>[0.025</th>    <th>0.975]</th>  \n",
       "</tr>\n",
       "<tr>\n",
       "  <th>Intercept</th>       <td>   10.3280</td> <td>    0.056</td> <td>  184.868</td> <td> 0.000</td> <td>   10.214</td> <td>   10.442</td>\n",
       "</tr>\n",
       "<tr>\n",
       "  <th>YearsExperience</th> <td>    0.5621</td> <td>    0.034</td> <td>   16.353</td> <td> 0.000</td> <td>    0.492</td> <td>    0.632</td>\n",
       "</tr>\n",
       "</table>\n",
       "<table class=\"simpletable\">\n",
       "<tr>\n",
       "  <th>Omnibus:</th>       <td> 0.102</td> <th>  Durbin-Watson:     </th> <td>   0.988</td>\n",
       "</tr>\n",
       "<tr>\n",
       "  <th>Prob(Omnibus):</th> <td> 0.950</td> <th>  Jarque-Bera (JB):  </th> <td>   0.297</td>\n",
       "</tr>\n",
       "<tr>\n",
       "  <th>Skew:</th>          <td> 0.093</td> <th>  Prob(JB):          </th> <td>   0.862</td>\n",
       "</tr>\n",
       "<tr>\n",
       "  <th>Kurtosis:</th>      <td> 2.549</td> <th>  Cond. No.          </th> <td>    5.76</td>\n",
       "</tr>\n",
       "</table><br/><br/>Notes:<br/>[1] Standard Errors assume that the covariance matrix of the errors is correctly specified."
      ],
      "text/plain": [
       "<class 'statsmodels.iolib.summary.Summary'>\n",
       "\"\"\"\n",
       "                            OLS Regression Results                            \n",
       "==============================================================================\n",
       "Dep. Variable:                 Salary   R-squared:                       0.905\n",
       "Model:                            OLS   Adj. R-squared:                  0.902\n",
       "Method:                 Least Squares   F-statistic:                     267.4\n",
       "Date:                Mon, 13 Jun 2022   Prob (F-statistic):           7.40e-16\n",
       "Time:                        23:11:50   Log-Likelihood:                 23.209\n",
       "No. Observations:                  30   AIC:                            -42.42\n",
       "Df Residuals:                      28   BIC:                            -39.61\n",
       "Df Model:                           1                                         \n",
       "Covariance Type:            nonrobust                                         \n",
       "===================================================================================\n",
       "                      coef    std err          t      P>|t|      [0.025      0.975]\n",
       "-----------------------------------------------------------------------------------\n",
       "Intercept          10.3280      0.056    184.868      0.000      10.214      10.442\n",
       "YearsExperience     0.5621      0.034     16.353      0.000       0.492       0.632\n",
       "==============================================================================\n",
       "Omnibus:                        0.102   Durbin-Watson:                   0.988\n",
       "Prob(Omnibus):                  0.950   Jarque-Bera (JB):                0.297\n",
       "Skew:                           0.093   Prob(JB):                        0.862\n",
       "Kurtosis:                       2.549   Cond. No.                         5.76\n",
       "==============================================================================\n",
       "\n",
       "Notes:\n",
       "[1] Standard Errors assume that the covariance matrix of the errors is correctly specified.\n",
       "\"\"\""
      ]
     },
     "execution_count": 68,
     "metadata": {},
     "output_type": "execute_result"
    }
   ],
   "source": [
    "model_2.summary()"
   ]
  },
  {
   "cell_type": "markdown",
   "id": "0943a081",
   "metadata": {},
   "source": []
  }
 ],
 "metadata": {
  "kernelspec": {
   "display_name": "Python 3 (ipykernel)",
   "language": "python",
   "name": "python3"
  },
  "language_info": {
   "codemirror_mode": {
    "name": "ipython",
    "version": 3
   },
   "file_extension": ".py",
   "mimetype": "text/x-python",
   "name": "python",
   "nbconvert_exporter": "python",
   "pygments_lexer": "ipython3",
   "version": "3.9.7"
  }
 },
 "nbformat": 4,
 "nbformat_minor": 5
}
